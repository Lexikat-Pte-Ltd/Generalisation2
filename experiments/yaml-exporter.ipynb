{
 "cells": [
  {
   "cell_type": "code",
   "execution_count": 1,
   "metadata": {},
   "outputs": [],
   "source": [
    "import json\n",
    "import yaml"
   ]
  },
  {
   "cell_type": "code",
   "execution_count": 2,
   "metadata": {},
   "outputs": [],
   "source": [
    "example_json = \"../data/archived_94_2024_08_14/ca_2024_08_05_23:52_run_data_at_5_cuopatcfw.json\""
   ]
  },
  {
   "cell_type": "code",
   "execution_count": 3,
   "metadata": {},
   "outputs": [],
   "source": [
    "from typing import Dict, List\n",
    "from src.types import TaggedPList\n",
    "\n",
    "with open(example_json, \"r\") as f:\n",
    "    data = json.load(f)\n",
    "\n",
    "def process_old_tch(old_tch: TaggedPList) -> List[Dict]:\n",
    "    new_tch = []\n",
    "    for item in old_tch:\n",
    "        if isinstance(item, list) and len(item) == 2:\n",
    "            new_tch.append({\"message\": item[0], \"tag\": item[1]})\n",
    "        elif isinstance(item, dict) and \"message\" in item and \"tag\" in item:\n",
    "            new_tch.append(item)\n",
    "        else:\n",
    "            print(f\"Unexpected format: {item}\")\n",
    "\n",
    "    return new_tch\n",
    "\n",
    "data[\"tagged_chat_history\"] = process_old_tch(data[\"tagged_chat_history\"])\n",
    "    "
   ]
  },
  {
   "cell_type": "code",
   "execution_count": 4,
   "metadata": {},
   "outputs": [],
   "source": [
    "def represent_multiline_str(dumper: yaml.Dumper, data: str) -> yaml.nodes.ScalarNode:\n",
    "    if len(data.splitlines()) > 1:  # check for multiline string\n",
    "        return dumper.represent_scalar('tag:yaml.org,2002:str', data, style='|')\n",
    "    return dumper.represent_scalar('tag:yaml.org,2002:str', data)"
   ]
  },
  {
   "cell_type": "code",
   "execution_count": 5,
   "metadata": {},
   "outputs": [],
   "source": [
    "from typing import OrderedDict\n",
    "import yaml\n",
    "\n",
    "# yaml.add_representer(OrderedDict, lambda dumper, data: dumper.represent_mapping('tag:yaml.org,2002:map', data.items()))\n",
    "yaml.add_representer(str, represent_multiline_str)"
   ]
  },
  {
   "cell_type": "code",
   "execution_count": 9,
   "metadata": {},
   "outputs": [],
   "source": [
    "output = yaml.dump(data, width=100, sort_keys=False)"
   ]
  },
  {
   "cell_type": "code",
   "execution_count": 10,
   "metadata": {},
   "outputs": [
    {
     "name": "stdout",
     "output_type": "stream",
     "text": [
      "tag: '[history, common_agent]'\n",
      "strat: Clean up orphaned packages and their configuration files with `sudo dpkg --purge $(COLUMNS=200\n",
      "  /usr/bin/dpkg -l 'libreoffice-*' 2>/dev/null | grep '^rc' | awk '{print $2}')`\n",
      "space_freed: 100000\n",
      "tagged_chat_history:\n",
      "- message:\n",
      "    role: system\n",
      "    content: |-\n",
      "      You are an agent working in a operating system with following information encoded in \"Informations\" XML tag. Those information are\n",
      "      <Informations>\n",
      "      - You are working in `/` path.\n",
      "      </Information>\n",
      "\n",
      "      You are tasked with 3 distinct tasks, encoded in \"Tasks\" XML tag, these are\n",
      "      <Tasks>\n",
      "      - Writing a code that returns necessary information about the operating system to perform the other tasks you are tasked to perform.\n",
      "      - Writing set of strategies to free up spaces inside the operating system you are working with.\n",
      "      - Writing codes to perform these strategies you have originally came up with to free storage spaces inside of the operating system.\n",
      "      </Tasks>\n",
      "  tag: system_plist\n",
      "- message:\n",
      "    role: user\n",
      "    content: |-\n",
      "      Here's also an additional environment information that you can use to aid you in this process, encoded in \"EnvInfo\" XML tag, those are\n",
      "      <BasicEnvInfos>\n",
      "      <BasicEnvInfo>\n",
      "      From `free -m` :\n",
      "      - total_system_memory: 128715.0\n",
      "      - available_system_memory: 123074.0\n",
      "      - running_memory: 5641.0\n",
      "      From `df -m /` :\n",
      "      - total_storage: 1500071.0\n",
      "      - available_storage: 627025.0\n",
      "      </BasicEnvInfo><BasicEnvInfo>\n",
      "      From `free -m` :\n",
      "      - total_system_memory: 128715.0\n",
      "      - available_system_memory: 122046.0\n",
      "      - running_memory: 6669.0\n",
      "      From `df -m /` :\n",
      "      - total_storage: 1500071.0\n",
      "      - available_storage: 627017.0\n",
      "      </BasicEnvInfo><BasicEnvInfo>\n",
      "      From `free -m` :\n",
      "      - total_system_memory: 128715.0\n",
      "      - available_system_memory: 122034.0\n",
      "      - running_memory: 6681.0\n",
      "      From `df -m /` :\n",
      "      - total_storage: 1500071.0\n",
      "      - available_storage: 627017.0\n",
      "      </BasicEnvInfo><BasicEnvInfo>\n",
      "      From `free -m` :\n",
      "      - total_system_memory: 128715.0\n",
      "      - available_system_memory: 122048.0\n",
      "      - running_memory: 6667.0\n",
      "      From `df -m /` :\n",
      "      - total_storage: 1500071.0\n",
      "      - available_storage: 627017.0\n",
      "      </BasicEnvInfo>\n",
      "      </BasicEnvInfos>\n",
      "  tag: get_basic_env_plist\n",
      "- message:\n",
      "    role: user\n",
      "    content: |-\n",
      "      Here's also additional environment informations that you can use to aid you in this process, encoded in \"SpecialEnvInfos\" XML tag, those are\n",
      "      <SpecialEnvInfos>\n",
      "      <SpecialEnvInfo>\n",
      "      {\"path\": \"/\", \"env_info\": {\"total_system_memory\": 128716, \"available_system_memory\": 122049, \"running_processes_memory\": 16.25}, \"storage_info\": {\"total_storage\": 1500071, \"available_storage\": 627016}}\n",
      "      </SpecialEnvInfo>\n",
      "      <SpecialEnvInfo>\n",
      "      {}\n",
      "      </SpecialEnvInfo>\n",
      "      <SpecialEnvInfo>\n",
      "      {\"path\": \"/\", \"env_info\": {\"total_system_memory\": 128716, \"available_system_memory\": 122048, \"running_processes_memory\": 16.25}, \"storage_info\": {\"total_storage\": 1500071, \"available_storage\": 627016}}\n",
      "      </SpecialEnvInfo>\n",
      "      <SpecialEnvInfo>\n",
      "      {}\n",
      "      </SpecialEnvInfo>\n",
      "      <SpecialEnvInfo>\n",
      "      {\"path\": \"/\", \"env_info\": {\"total_system_memory\": 128716, \"available_system_memory\": 122034, \"running_processes_memory\": 16.25}, \"storage_info\": {\"total_storage\": 1500071, \"available_storage\": 627016}}\n",
      "      </SpecialEnvInfo>\n",
      "      <SpecialEnvInfo>\n",
      "      {}\n",
      "      </SpecialEnvInfo>\n",
      "      <SpecialEnvInfo>\n",
      "      {\"path\": \"/\", \"env_info\": {\"total_system_memory\": 128716, \"available_system_memory\": 122040, \"running_processes_memory\": 16.25}, \"storage_info\": {\"total_storage\": 1500071, \"available_storage\": 627016}}\n",
      "      </SpecialEnvInfo>\n",
      "      <SpecialEnvInfo>\n",
      "      {}\n",
      "      </SpecialEnvInfo>\n",
      "      </SpecialEnvInfos>\n",
      "  tag: get_special_env_plist\n",
      "- message:\n",
      "    role: user\n",
      "    content: \"Given the previous context, generate a few specific potential strategies as an AI agent\\\n",
      "      \\ to achieve freeing up some disk space for the directory `/`. \\nHere also a list of previous strat\\\n",
      "      \\ that youve used. You are encouraged to use new strategies not in the list.\\n\\n\\n\\nGenerate a JSON\\\n",
      "      \\ object with this exact structure:\\n{\\\"list\\\": [\\\"strategy1\\\", \\\"strategy2\\\", \\\"strategy3\\\"]}\\n\\\n",
      "      \\nReplace \\\"strategy1\\\", etc. with actual strategies. Include minimum of 10 strategies. Output only\\\n",
      "      \\ the JSON object, nothing else.\"\n",
      "  tag: get_strat_req_plist\n",
      "- message:\n",
      "    role: assistant\n",
      "    content: |-\n",
      "      {\n",
      "          \"list\": [\n",
      "              \"Clean up temporary files by using commands like `rm -rf /tmp/*`.\",\n",
      "              \"Purge old kernels that are no longer necessary with `sudo apt-get purge $(dpkg -l 'linux-*' | sed '/^ii/ !d|/headers/')`\",\n",
      "              \"Clean up orphaned packages and their configuration files with `sudo dpkg --purge $(COLUMNS=200 /usr/bin/dpkg -l 'libreoffice-*' 2>/dev/null | grep '^rc' | awk '{print $2}')`\",\n",
      "              \"Delete old revisions of man pages with `sudo rm -rf /usr/share/man/*`.\",\n",
      "              \"Clear out the local repository of retrieved package files with `sudo apt-get clean`.\",\n",
      "              \"Remove Docker images, containers and volumes not used by `docker system prune` command.\",\n",
      "              \"Clean up orphaned snap packages with `sudo snap remove $(snap list --all | awk '/disabled/{print $1}')`\",\n",
      "              \"Purge old kernel versions from the bootloader with `sudo update-grub`.\",\n",
      "              \"Emptying cache of applications that need disk space with commands like `npm cache clean --force` for npm or `gem clean` for Ruby gems.\",\n",
      "              \"Delete large files and empty directories in /home directory with a command line utility named 'sage'.\"\n",
      "          ]\n",
      "      }\n",
      "  tag: gen_strats\n",
      "\n"
     ]
    }
   ],
   "source": [
    "print(output)"
   ]
  },
  {
   "cell_type": "code",
   "execution_count": null,
   "metadata": {},
   "outputs": [],
   "source": []
  }
 ],
 "metadata": {
  "kernelspec": {
   "display_name": ".venv",
   "language": "python",
   "name": "python3"
  },
  "language_info": {
   "codemirror_mode": {
    "name": "ipython",
    "version": 3
   },
   "file_extension": ".py",
   "mimetype": "text/x-python",
   "name": "python",
   "nbconvert_exporter": "python",
   "pygments_lexer": "ipython3",
   "version": "3.10.14"
  }
 },
 "nbformat": 4,
 "nbformat_minor": 2
}
